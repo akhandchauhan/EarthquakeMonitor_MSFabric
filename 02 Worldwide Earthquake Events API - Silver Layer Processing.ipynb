{
 "cells": [
  {
   "cell_type": "markdown",
   "id": "f7132a30-2b1d-4341-a7b6-795a586ddee0",
   "metadata": {
    "nteract": {
     "transient": {
      "deleting": false
     }
    }
   },
   "source": [
    "# Worldwide Earthquake Events API - Silver Layer Processing"
   ]
  },
  {
   "cell_type": "code",
   "execution_count": null,
   "id": "3bb3e2bd-9754-41dc-b1ed-2664deff749d",
   "metadata": {
    "jupyter": {
     "outputs_hidden": false,
     "source_hidden": false
    },
    "nteract": {
     "transient": {
      "deleting": false
     }
    }
   },
   "outputs": [],
   "source": [
    "import pandas as pd\n",
    "import json\n",
    "from datetime import datetime"
   ]
  },
  {
   "cell_type": "code",
   "execution_count": null,
   "id": "ecfa465b-ded7-44bb-8659-133c553609e9",
   "metadata": {
    "collapsed": false,
    "jupyter": {
     "outputs_hidden": false,
     "source_hidden": false
    },
    "nteract": {
     "transient": {
      "deleting": false
     }
    }
   },
   "outputs": [],
   "source": [
    "with open(f\"Files/{start_date}_earthquake_data.json\", \"r\") as file:\n",
    "    data = json.load(file)\n",
    "df = pd.json_normalize(data, record_path=['features'])"
   ]
  },
  {
   "cell_type": "code",
   "execution_count": null,
   "id": "9864a763-0ab0-47c5-a76e-0e196c9a0ca4",
   "metadata": {
    "collapsed": false,
    "jupyter": {
     "outputs_hidden": false,
     "source_hidden": false
    },
    "nteract": {
     "transient": {
      "deleting": false
     }
    }
   },
   "outputs": [],
   "source": [
    "df = df[['id', \n",
    "         'geometry.coordinates', \n",
    "         'properties.title', \n",
    "         'properties.place', \n",
    "         'properties.sig', \n",
    "         'properties.mag', \n",
    "         'properties.magType', \n",
    "         'properties.time', \n",
    "         'properties.updated']]\n",
    "df[['longitude', 'latitude', 'elevation']] = pd.DataFrame(df['geometry.coordinates'].tolist(), index=df.index)"
   ]
  },
  {
   "cell_type": "code",
   "execution_count": null,
   "id": "dd86819c-d43f-41ac-9e4e-394a6592f0f6",
   "metadata": {
    "collapsed": false,
    "jupyter": {
     "outputs_hidden": false,
     "source_hidden": false
    },
    "nteract": {
     "transient": {
      "deleting": false
     }
    }
   },
   "outputs": [],
   "source": [
    "df.rename(columns={\n",
    "    'properties.title': 'title',\n",
    "    'properties.place': 'place_description',\n",
    "    'properties.sig': 'sig',\n",
    "    'properties.mag': 'mag',\n",
    "    'properties.magType': 'magType',\n",
    "    'properties.time': 'time',\n",
    "    'properties.updated': 'updated'\n",
    "}, inplace=True)\n"
   ]
  },
  {
   "cell_type": "code",
   "execution_count": null,
   "id": "8ed7950e-b338-470d-aebc-60da0701d9ee",
   "metadata": {
    "collapsed": false,
    "jupyter": {
     "outputs_hidden": false,
     "source_hidden": false
    },
    "nteract": {
     "transient": {
      "deleting": false
     }
    }
   },
   "outputs": [],
   "source": [
    "df['time'] = pd.to_datetime(df['time'], unit='ms')\n",
    "df['updated'] = pd.to_datetime(df['updated'], unit='ms')"
   ]
  },
  {
   "cell_type": "code",
   "execution_count": null,
   "id": "ebf788b4",
   "metadata": {},
   "outputs": [],
   "source": [
    "df.drop(columns=['geometry.coordinates'], inplace=True)"
   ]
  },
  {
   "cell_type": "code",
   "execution_count": null,
   "id": "fe81f58e",
   "metadata": {},
   "outputs": [],
   "source": [
    "df.to_csv('earthquake_events_silver.csv', mode='a', index=False)"
   ]
  }
 ],
 "metadata": {
  "dependencies": {
   "lakehouse": {}
  },
  "kernel_info": {
   "name": "synapse_pyspark"
  },
  "kernelspec": {
   "display_name": "Synapse PySpark",
   "language": "Python",
   "name": "synapse_pyspark"
  },
  "language_info": {
   "name": "python"
  },
  "microsoft": {
   "language": "python",
   "ms_spell_check": {
    "ms_spell_check_language": "en"
   }
  },
  "nteract": {
   "version": "nteract-front-end@1.0.0"
  },
  "spark_compute": {
   "compute_id": "/trident/default"
  },
  "synapse_widget": {
   "state": {},
   "version": "0.1"
  },
  "widgets": {}
 },
 "nbformat": 4,
 "nbformat_minor": 5
}
