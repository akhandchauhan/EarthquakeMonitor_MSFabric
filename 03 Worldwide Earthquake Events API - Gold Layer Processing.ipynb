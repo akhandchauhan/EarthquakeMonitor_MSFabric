{
 "cells": [
  {
   "cell_type": "markdown",
   "id": "835b22e2-8b39-471e-8f55-b8c5b9d29ac9",
   "metadata": {
    "nteract": {
     "transient": {
      "deleting": false
     }
    }
   },
   "source": [
    "# Worldwide Earthquake Events API - Gold Layer Processing"
   ]
  },
  {
   "cell_type": "code",
   "execution_count": null,
   "id": "1c59606d-8190-4a55-8733-b5e52f39d8ea",
   "metadata": {},
   "outputs": [],
   "source": [
    "import pandas as pd\n",
    "import reverse_geocoder as rg\n",
    "from datetime import datetime"
   ]
  },
  {
   "cell_type": "code",
   "execution_count": null,
   "id": "9f559b5d-facb-40a0-b9ec-9e428368d7b5",
   "metadata": {
    "jupyter": {
     "outputs_hidden": false,
     "source_hidden": false
    },
    "nteract": {
     "transient": {
      "deleting": false
     }
    }
   },
   "outputs": [],
   "source": [
    "df = pd.read_csv('earthquake_events_silver.csv')"
   ]
  },
  {
   "cell_type": "code",
   "execution_count": null,
   "id": "76cafb9a-1e17-44c4-87dd-14ade63e06da",
   "metadata": {
    "jupyter": {
     "outputs_hidden": false,
     "source_hidden": false
    },
    "nteract": {
     "transient": {
      "deleting": false
     }
    }
   },
   "outputs": [],
   "source": [
    "start_date = pd.to_datetime(start_date)  # Ensure start_date is in datetime format\n",
    "df['time'] = pd.to_datetime(df['time'])\n",
    "df_filtered = df[df['time'] > start_date]"
   ]
  },
  {
   "cell_type": "code",
   "execution_count": null,
   "id": "4db36cb4-b5d2-477a-b322-d4aa885c9175",
   "metadata": {
    "jupyter": {
     "outputs_hidden": false,
     "source_hidden": false
    },
    "nteract": {
     "transient": {
      "deleting": false
     }
    }
   },
   "outputs": [],
   "source": [
    "def get_country_code(lat, lon):\n",
    "    \"\"\"\n",
    "    Retrieve the country code for a given latitude and longitude.\n",
    "\n",
    "    Parameters:\n",
    "        lat (float or str): Latitude of the location.\n",
    "        lon (float or str): Longitude of the location.\n",
    "\n",
    "    Returns:\n",
    "        str: Country code of the location, retrieved using reverse geocoding API.\n",
    "    \"\"\"\n",
    "    coordinates = (float(lat), float(lon))\n",
    "    return rg.search(coordinates)[0].get('cc')"
   ]
  },
  {
   "cell_type": "code",
   "execution_count": null,
   "id": "400077dc-7a7e-403c-b001-22953c866f7c",
   "metadata": {
    "jupyter": {
     "outputs_hidden": false,
     "source_hidden": false
    },
    "nteract": {
     "transient": {
      "deleting": false
     }
    }
   },
   "outputs": [],
   "source": [
    "df_filtered['country_code'] = df_filtered.apply(lambda row: get_country_code(row['latitude'], row['longitude']), axis=1)"
   ]
  },
  {
   "cell_type": "code",
   "execution_count": null,
   "id": "a3eb3ae7-6f94-48fc-a9a9-cb2ca7618ed3",
   "metadata": {
    "jupyter": {
     "outputs_hidden": false,
     "source_hidden": false
    },
    "nteract": {
     "transient": {
      "deleting": false
     }
    }
   },
   "outputs": [],
   "source": [
    "def classify_significance(sig):\n",
    "    if sig < 100:\n",
    "        return \"Low\"\n",
    "    elif 100 <= sig < 500:\n",
    "        return \"Moderate\"\n",
    "    else:\n",
    "        return \"High\"\n",
    "\n",
    "df_filtered['sig_class'] = df_filtered['sig'].apply(classify_significance)"
   ]
  },
  {
   "cell_type": "code",
   "execution_count": null,
   "id": "dd397011-101d-488f-a5b8-69604a6940e6",
   "metadata": {
    "jupyter": {
     "outputs_hidden": false,
     "source_hidden": false
    },
    "nteract": {
     "transient": {
      "deleting": false
     }
    }
   },
   "outputs": [],
   "source": [
    "df_filtered.to_csv('earthquake_events_gold.csv', mode='a', index=False)"
   ]
  }
 ],
 "metadata": {
  "dependencies": {
   "environment": {
    "environmentId": "65375c3f-cd13-4809-8a5c-4b5f217249b7",
    "workspaceId": "2cfdb44b-710f-4814-b790-60e31d4f7df7"
   },
   "lakehouse": {}
  },
  "kernel_info": {
   "name": "synapse_pyspark"
  },
  "kernelspec": {
   "display_name": "Synapse PySpark",
   "language": "Python",
   "name": "synapse_pyspark"
  },
  "language_info": {
   "name": "python"
  },
  "microsoft": {
   "language": "python",
   "ms_spell_check": {
    "ms_spell_check_language": "en"
   }
  },
  "nteract": {
   "version": "nteract-front-end@1.0.0"
  },
  "spark_compute": {
   "compute_id": "/trident/default"
  },
  "synapse_widget": {
   "state": {},
   "version": "0.1"
  },
  "widgets": {}
 },
 "nbformat": 4,
 "nbformat_minor": 5
}
